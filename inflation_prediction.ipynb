{
 "cells": [
  {
   "cell_type": "markdown",
   "id": "a8400a7a",
   "metadata": {},
   "source": [
    "Warunki zadania:"
   ]
  },
  {
   "cell_type": "markdown",
   "id": "eae6fb9a",
   "metadata": {},
   "source": [
    "Projekt w Pythonie lub R."
   ]
  },
  {
   "cell_type": "markdown",
   "id": "2aad2a2e",
   "metadata": {},
   "source": [
    "Projekty w pliku powinny zawierać następujące sekcje:\n",
    "\n",
    "* nazwa zespołu;\n",
    "* imiona i nazwiska członków zespołu;\n",
    "* jasno wskazana prognoza punktowa procentowego wzrostu cen towarów i usług konsumpcyjnych według szybkiego szacunku GUS w maju 2023 r. w porównaniu z analogicznym miesiącem ub. roku;\n",
    "* krótki opis zastosowanej metody: na czym polega model i wykorzystane zmienne;\n",
    "* kod, który prowadzi do wyniku podanego w pkcie 3 wraz z danymi (jeśli uruchomię kod, to musi mi on dać wskazany wynik).\n",
    "\n",
    "\n"
   ]
  },
  {
   "cell_type": "code",
   "execution_count": 1,
   "id": "99e8c705",
   "metadata": {},
   "outputs": [],
   "source": [
    "#Nazwa zespołu: InflaVision\n",
    "#Autorka: Aleksandra Gomolka\n",
    "#Indeks: 123034"
   ]
  },
  {
   "cell_type": "code",
   "execution_count": 2,
   "id": "d6c83e6c",
   "metadata": {},
   "outputs": [],
   "source": [
    "import pandas as pd\n",
    "today = date.today()"
   ]
  },
  {
   "cell_type": "code",
   "execution_count": 74,
   "id": "0de6e505",
   "metadata": {},
   "outputs": [],
   "source": [
    "inflation = pd.read_csv(\"data/inflacja.csv\")"
   ]
  },
  {
   "cell_type": "code",
   "execution_count": 75,
   "id": "f460ad35",
   "metadata": {},
   "outputs": [
    {
     "data": {
      "text/html": [
       "<div>\n",
       "<style scoped>\n",
       "    .dataframe tbody tr th:only-of-type {\n",
       "        vertical-align: middle;\n",
       "    }\n",
       "\n",
       "    .dataframe tbody tr th {\n",
       "        vertical-align: top;\n",
       "    }\n",
       "\n",
       "    .dataframe thead th {\n",
       "        text-align: right;\n",
       "    }\n",
       "</style>\n",
       "<table border=\"1\" class=\"dataframe\">\n",
       "  <thead>\n",
       "    <tr style=\"text-align: right;\">\n",
       "      <th></th>\n",
       "      <th>'label'</th>\n",
       "      <th>'2021'</th>\n",
       "      <th>'2022'</th>\n",
       "      <th>'2023'</th>\n",
       "    </tr>\n",
       "  </thead>\n",
       "  <tbody>\n",
       "    <tr>\n",
       "      <th>0</th>\n",
       "      <td>Styczeń</td>\n",
       "      <td>2.6</td>\n",
       "      <td>9.4</td>\n",
       "      <td>16.6</td>\n",
       "    </tr>\n",
       "    <tr>\n",
       "      <th>1</th>\n",
       "      <td>Luty</td>\n",
       "      <td>2.4</td>\n",
       "      <td>8.5</td>\n",
       "      <td>18.4</td>\n",
       "    </tr>\n",
       "    <tr>\n",
       "      <th>2</th>\n",
       "      <td>Marzec</td>\n",
       "      <td>3.2</td>\n",
       "      <td>11.0</td>\n",
       "      <td>16.1</td>\n",
       "    </tr>\n",
       "    <tr>\n",
       "      <th>3</th>\n",
       "      <td>Kwiecień</td>\n",
       "      <td>4.3</td>\n",
       "      <td>12.4</td>\n",
       "      <td>14.7</td>\n",
       "    </tr>\n",
       "    <tr>\n",
       "      <th>4</th>\n",
       "      <td>Maj</td>\n",
       "      <td>4.7</td>\n",
       "      <td>13.9</td>\n",
       "      <td>NaN</td>\n",
       "    </tr>\n",
       "  </tbody>\n",
       "</table>\n",
       "</div>"
      ],
      "text/plain": [
       "    'label'  '2021'  '2022'  '2023'\n",
       "0   Styczeń     2.6     9.4    16.6\n",
       "1      Luty     2.4     8.5    18.4\n",
       "2    Marzec     3.2    11.0    16.1\n",
       "3  Kwiecień     4.3    12.4    14.7\n",
       "4       Maj     4.7    13.9     NaN"
      ]
     },
     "execution_count": 75,
     "metadata": {},
     "output_type": "execute_result"
    }
   ],
   "source": [
    "inflation.head()"
   ]
  },
  {
   "cell_type": "code",
   "execution_count": 76,
   "id": "253a5851",
   "metadata": {},
   "outputs": [],
   "source": [
    "inflation = inflation.rename(columns=lambda x: x[1:-1])"
   ]
  },
  {
   "cell_type": "code",
   "execution_count": 77,
   "id": "f959585b",
   "metadata": {},
   "outputs": [],
   "source": [
    "d = {'Year': [], 'Month': [], 'Inflation': []}\n",
    "df = pd.DataFrame(data=d)\n",
    "\n",
    "today = date.today()\n",
    "mth = int(today.strftime(\"%m\"))\n",
    "mth\n",
    "\n",
    "for year in inflation.columns[1::].tolist():\n",
    "    for mthn in range(5): \n",
    "        df = pd.concat([df, pd.DataFrame({\"Year\":[year], \"Month\":[inflation.label[:mth].tolist()[mthn]], \"Inflation\":[inflation[year][mthn]]})], ignore_index = True)"
   ]
  },
  {
   "cell_type": "code",
   "execution_count": 78,
   "id": "f716239a",
   "metadata": {},
   "outputs": [
    {
     "data": {
      "text/html": [
       "<div>\n",
       "<style scoped>\n",
       "    .dataframe tbody tr th:only-of-type {\n",
       "        vertical-align: middle;\n",
       "    }\n",
       "\n",
       "    .dataframe tbody tr th {\n",
       "        vertical-align: top;\n",
       "    }\n",
       "\n",
       "    .dataframe thead th {\n",
       "        text-align: right;\n",
       "    }\n",
       "</style>\n",
       "<table border=\"1\" class=\"dataframe\">\n",
       "  <thead>\n",
       "    <tr style=\"text-align: right;\">\n",
       "      <th></th>\n",
       "      <th>Year</th>\n",
       "      <th>Month</th>\n",
       "      <th>Inflation</th>\n",
       "    </tr>\n",
       "  </thead>\n",
       "  <tbody>\n",
       "    <tr>\n",
       "      <th>0</th>\n",
       "      <td>2021</td>\n",
       "      <td>Styczeń</td>\n",
       "      <td>2.6</td>\n",
       "    </tr>\n",
       "    <tr>\n",
       "      <th>1</th>\n",
       "      <td>2021</td>\n",
       "      <td>Luty</td>\n",
       "      <td>2.4</td>\n",
       "    </tr>\n",
       "    <tr>\n",
       "      <th>2</th>\n",
       "      <td>2021</td>\n",
       "      <td>Marzec</td>\n",
       "      <td>3.2</td>\n",
       "    </tr>\n",
       "    <tr>\n",
       "      <th>3</th>\n",
       "      <td>2021</td>\n",
       "      <td>Kwiecień</td>\n",
       "      <td>4.3</td>\n",
       "    </tr>\n",
       "    <tr>\n",
       "      <th>4</th>\n",
       "      <td>2021</td>\n",
       "      <td>Maj</td>\n",
       "      <td>4.7</td>\n",
       "    </tr>\n",
       "    <tr>\n",
       "      <th>5</th>\n",
       "      <td>2022</td>\n",
       "      <td>Styczeń</td>\n",
       "      <td>9.4</td>\n",
       "    </tr>\n",
       "    <tr>\n",
       "      <th>6</th>\n",
       "      <td>2022</td>\n",
       "      <td>Luty</td>\n",
       "      <td>8.5</td>\n",
       "    </tr>\n",
       "    <tr>\n",
       "      <th>7</th>\n",
       "      <td>2022</td>\n",
       "      <td>Marzec</td>\n",
       "      <td>11.0</td>\n",
       "    </tr>\n",
       "    <tr>\n",
       "      <th>8</th>\n",
       "      <td>2022</td>\n",
       "      <td>Kwiecień</td>\n",
       "      <td>12.4</td>\n",
       "    </tr>\n",
       "    <tr>\n",
       "      <th>9</th>\n",
       "      <td>2022</td>\n",
       "      <td>Maj</td>\n",
       "      <td>13.9</td>\n",
       "    </tr>\n",
       "    <tr>\n",
       "      <th>10</th>\n",
       "      <td>2023</td>\n",
       "      <td>Styczeń</td>\n",
       "      <td>16.6</td>\n",
       "    </tr>\n",
       "    <tr>\n",
       "      <th>11</th>\n",
       "      <td>2023</td>\n",
       "      <td>Luty</td>\n",
       "      <td>18.4</td>\n",
       "    </tr>\n",
       "    <tr>\n",
       "      <th>12</th>\n",
       "      <td>2023</td>\n",
       "      <td>Marzec</td>\n",
       "      <td>16.1</td>\n",
       "    </tr>\n",
       "    <tr>\n",
       "      <th>13</th>\n",
       "      <td>2023</td>\n",
       "      <td>Kwiecień</td>\n",
       "      <td>14.7</td>\n",
       "    </tr>\n",
       "    <tr>\n",
       "      <th>14</th>\n",
       "      <td>2023</td>\n",
       "      <td>Maj</td>\n",
       "      <td>NaN</td>\n",
       "    </tr>\n",
       "  </tbody>\n",
       "</table>\n",
       "</div>"
      ],
      "text/plain": [
       "    Year     Month  Inflation\n",
       "0   2021   Styczeń        2.6\n",
       "1   2021      Luty        2.4\n",
       "2   2021    Marzec        3.2\n",
       "3   2021  Kwiecień        4.3\n",
       "4   2021       Maj        4.7\n",
       "5   2022   Styczeń        9.4\n",
       "6   2022      Luty        8.5\n",
       "7   2022    Marzec       11.0\n",
       "8   2022  Kwiecień       12.4\n",
       "9   2022       Maj       13.9\n",
       "10  2023   Styczeń       16.6\n",
       "11  2023      Luty       18.4\n",
       "12  2023    Marzec       16.1\n",
       "13  2023  Kwiecień       14.7\n",
       "14  2023       Maj        NaN"
      ]
     },
     "execution_count": 78,
     "metadata": {},
     "output_type": "execute_result"
    }
   ],
   "source": [
    "df"
   ]
  },
  {
   "cell_type": "code",
   "execution_count": null,
   "id": "dee2f6bc",
   "metadata": {},
   "outputs": [],
   "source": []
  }
 ],
 "metadata": {
  "kernelspec": {
   "display_name": "Python 3 (ipykernel)",
   "language": "python",
   "name": "python3"
  },
  "language_info": {
   "codemirror_mode": {
    "name": "ipython",
    "version": 3
   },
   "file_extension": ".py",
   "mimetype": "text/x-python",
   "name": "python",
   "nbconvert_exporter": "python",
   "pygments_lexer": "ipython3",
   "version": "3.9.13"
  }
 },
 "nbformat": 4,
 "nbformat_minor": 5
}
